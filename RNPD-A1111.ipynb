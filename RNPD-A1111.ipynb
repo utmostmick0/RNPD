{
 "cells": [
  {
   "cell_type": "markdown",
   "id": "6441563f-5e6b-4987-abe3-2a1b8c25a789",
   "metadata": {},
   "source": [
    "## A1111 RunPod Notebook From https://github.com/utmostmick0/fast-stable-diffusion, if you encounter any issues, feel free to discuss them."
   ]
  },
  {
   "cell_type": "markdown",
   "id": "840f2f6a-41d1-4938-a846-d51f76682b76",
   "metadata": {},
   "source": [
    "# Dependencies"
   ]
  },
  {
   "cell_type": "code",
   "execution_count": 1,
   "id": "62e22de7-f054-45a7-b7e3-b63b9a0188a1",
   "metadata": {},
   "outputs": [
    {
     "ename": "FileNotFoundError",
     "evalue": "[Errno 2] No such file or directory: '/workspace/mainRNPDA1111.py'",
     "output_type": "error",
     "traceback": [
      "\u001b[0;31m---------------------------------------------------------------------------\u001b[0m",
      "\u001b[0;31mFileNotFoundError\u001b[0m                         Traceback (most recent call last)",
      "Cell \u001b[0;32mIn[1], line 8\u001b[0m\n\u001b[1;32m      3\u001b[0m force_reinstall\u001b[38;5;241m=\u001b[39m \u001b[38;5;28;01mFalse\u001b[39;00m\n\u001b[1;32m      5\u001b[0m \u001b[38;5;66;03m# Set to true only if you want to install the dependencies again.\u001b[39;00m\n\u001b[1;32m      6\u001b[0m \n\u001b[1;32m      7\u001b[0m \u001b[38;5;66;03m#--------------------\u001b[39;00m\n\u001b[0;32m----> 8\u001b[0m \u001b[38;5;28;01mwith\u001b[39;00m \u001b[38;5;28mopen\u001b[39m(\u001b[38;5;124m'\u001b[39m\u001b[38;5;124m/dev/null\u001b[39m\u001b[38;5;124m'\u001b[39m, \u001b[38;5;124m'\u001b[39m\u001b[38;5;124mw\u001b[39m\u001b[38;5;124m'\u001b[39m) \u001b[38;5;28;01mas\u001b[39;00m devnull:\u001b[38;5;28;01mimport\u001b[39;00m \u001b[38;5;21;01mrequests\u001b[39;00m\u001b[38;5;241m,\u001b[39m \u001b[38;5;21;01mos\u001b[39;00m\u001b[38;5;241m,\u001b[39m \u001b[38;5;21;01mimportlib\u001b[39;00m;sc\u001b[38;5;241m=\u001b[39m\u001b[38;5;124m\"\u001b[39m\u001b[38;5;124mmainRNPDA1111.py\u001b[39m\u001b[38;5;124m\"\u001b[39m \u001b[38;5;28;01mif\u001b[39;00m os\u001b[38;5;241m.\u001b[39mpath\u001b[38;5;241m.\u001b[39mexists(\u001b[38;5;124m'\u001b[39m\u001b[38;5;124m/usr/local/lib/python3.9\u001b[39m\u001b[38;5;124m'\u001b[39m) \u001b[38;5;28;01melse\u001b[39;00m \u001b[38;5;124m\"\u001b[39m\u001b[38;5;124mmainRNPDA1111_311.py\u001b[39m\u001b[38;5;124m\"\u001b[39m;\u001b[38;5;28mopen\u001b[39m(\u001b[38;5;124m'\u001b[39m\u001b[38;5;124m/workspace/mainRNPDA1111.py\u001b[39m\u001b[38;5;124m'\u001b[39m, \u001b[38;5;124m'\u001b[39m\u001b[38;5;124mwb\u001b[39m\u001b[38;5;124m'\u001b[39m)\u001b[38;5;241m.\u001b[39mwrite(requests\u001b[38;5;241m.\u001b[39mget(\u001b[38;5;124m'\u001b[39m\u001b[38;5;124mhttps://github.com/utmostmick0/RNPD/raw/main/Scripts/\u001b[39m\u001b[38;5;124m'\u001b[39m\u001b[38;5;241m+\u001b[39msc)\u001b[38;5;241m.\u001b[39mcontent);os\u001b[38;5;241m.\u001b[39mchdir(\u001b[38;5;124m'\u001b[39m\u001b[38;5;124m/workspace\u001b[39m\u001b[38;5;124m'\u001b[39m);\u001b[38;5;28;01mimport\u001b[39;00m \u001b[38;5;21;01mmainRNPDA1111\u001b[39;00m;importlib\u001b[38;5;241m.\u001b[39mreload(mainRNPDA1111);\u001b[38;5;28;01mfrom\u001b[39;00m \u001b[38;5;21;01mmainRNPDA1111\u001b[39;00m \u001b[38;5;28;01mimport\u001b[39;00m \u001b[38;5;241m*\u001b[39m;Deps(force_reinstall)\n",
      "File \u001b[0;32m~/.local/lib/python3.10/site-packages/IPython/core/interactiveshell.py:324\u001b[0m, in \u001b[0;36m_modified_open\u001b[0;34m(file, *args, **kwargs)\u001b[0m\n\u001b[1;32m    317\u001b[0m \u001b[38;5;28;01mif\u001b[39;00m file \u001b[38;5;129;01min\u001b[39;00m {\u001b[38;5;241m0\u001b[39m, \u001b[38;5;241m1\u001b[39m, \u001b[38;5;241m2\u001b[39m}:\n\u001b[1;32m    318\u001b[0m     \u001b[38;5;28;01mraise\u001b[39;00m \u001b[38;5;167;01mValueError\u001b[39;00m(\n\u001b[1;32m    319\u001b[0m         \u001b[38;5;124mf\u001b[39m\u001b[38;5;124m\"\u001b[39m\u001b[38;5;124mIPython won\u001b[39m\u001b[38;5;124m'\u001b[39m\u001b[38;5;124mt let you open fd=\u001b[39m\u001b[38;5;132;01m{\u001b[39;00mfile\u001b[38;5;132;01m}\u001b[39;00m\u001b[38;5;124m by default \u001b[39m\u001b[38;5;124m\"\u001b[39m\n\u001b[1;32m    320\u001b[0m         \u001b[38;5;124m\"\u001b[39m\u001b[38;5;124mas it is likely to crash IPython. If you know what you are doing, \u001b[39m\u001b[38;5;124m\"\u001b[39m\n\u001b[1;32m    321\u001b[0m         \u001b[38;5;124m\"\u001b[39m\u001b[38;5;124myou can use builtins\u001b[39m\u001b[38;5;124m'\u001b[39m\u001b[38;5;124m open.\u001b[39m\u001b[38;5;124m\"\u001b[39m\n\u001b[1;32m    322\u001b[0m     )\n\u001b[0;32m--> 324\u001b[0m \u001b[38;5;28;01mreturn\u001b[39;00m \u001b[43mio_open\u001b[49m\u001b[43m(\u001b[49m\u001b[43mfile\u001b[49m\u001b[43m,\u001b[49m\u001b[43m \u001b[49m\u001b[38;5;241;43m*\u001b[39;49m\u001b[43margs\u001b[49m\u001b[43m,\u001b[49m\u001b[43m \u001b[49m\u001b[38;5;241;43m*\u001b[39;49m\u001b[38;5;241;43m*\u001b[39;49m\u001b[43mkwargs\u001b[49m\u001b[43m)\u001b[49m\n",
      "\u001b[0;31mFileNotFoundError\u001b[0m: [Errno 2] No such file or directory: '/workspace/mainRNPDA1111.py'"
     ]
    }
   ],
   "source": [
    "# Install the dependencies\n",
    "\n",
    "force_reinstall= False\n",
    "\n",
    "# Set to true only if you want to install the dependencies again.\n",
    "\n",
    "#--------------------\n",
    "with open('/dev/null', 'w') as devnull:import requests, os, importlib;sc=\"mainRNPDA1111.py\" if os.path.exists('/usr/local/lib/python3.9') else \"mainRNPDA1111_311.py\";open('/workspace/mainRNPDA1111.py', 'wb').write(requests.get('https://github.com/utmostmick0/RNPD/raw/main/Scripts/'+sc).content);os.chdir('/workspace');import mainRNPDA1111;importlib.reload(mainRNPDA1111);from mainRNPDA1111 import *;Deps(force_reinstall)"
   ]
  },
  {
   "cell_type": "markdown",
   "id": "e21f3583-2d0f-4218-9da2-303f9e202820",
   "metadata": {
    "tags": []
   },
   "source": [
    "# Install/Update AUTOMATIC1111 repo"
   ]
  },
  {
   "cell_type": "code",
   "execution_count": 2,
   "id": "ed6cebed-8a4f-4a35-b5c3-36126be008b9",
   "metadata": {},
   "outputs": [
    {
     "ename": "NameError",
     "evalue": "name 'repo' is not defined",
     "output_type": "error",
     "traceback": [
      "\u001b[0;31m---------------------------------------------------------------------------\u001b[0m",
      "\u001b[0;31mNameError\u001b[0m                                 Traceback (most recent call last)",
      "Cell \u001b[0;32mIn[2], line 4\u001b[0m\n\u001b[1;32m      1\u001b[0m \u001b[38;5;66;03m# Don't skip this cell to make sure the repo is up to date and functioning correctly\u001b[39;00m\n\u001b[1;32m      2\u001b[0m \n\u001b[1;32m      3\u001b[0m \u001b[38;5;66;03m#--------------------\u001b[39;00m\n\u001b[0;32m----> 4\u001b[0m \u001b[43mrepo\u001b[49m()\n",
      "\u001b[0;31mNameError\u001b[0m: name 'repo' is not defined"
     ]
    }
   ],
   "source": [
    "# Don't skip this cell to make sure the repo is up to date and functioning correctly\n",
    "\n",
    "#--------------------\n",
    "repo()"
   ]
  },
  {
   "cell_type": "markdown",
   "id": "ab0521c7-8c68-4ea2-915a-bc3f4b67f6e7",
   "metadata": {},
   "source": [
    "# Model Download/Load"
   ]
  },
  {
   "cell_type": "code",
   "execution_count": null,
   "id": "a6f367e0-df08-41fd-91b5-e2afbcbd42e4",
   "metadata": {},
   "outputs": [],
   "source": [
    "Original_Model_Version = \"SDXL\"\n",
    "\n",
    "# Choices are \"SDXL\", \"v1.5\", \"v2-512\", \"v2-768\"\n",
    "\n",
    "\n",
    "Path_to_MODEL = \"\"\n",
    "\n",
    "# Insert the full path of your trained model or to a folder containing multiple models.\n",
    "\n",
    "\n",
    "MODEL_LINK = \"\"\n",
    "\n",
    "# A direct link to a Model or a shared gdrive link.\n",
    "\n",
    "\n",
    "Temporary_Storage = False\n",
    "\n",
    "# Download the model to a temporary storage, bigger capacity but will be removed at session shutdown.\n",
    "\n",
    "\n",
    "#--------------------\n",
    "model=mdls(Original_Model_Version, Path_to_MODEL, MODEL_LINK, Temporary_Storage)"
   ]
  },
  {
   "cell_type": "markdown",
   "id": "3dea93ee",
   "metadata": {},
   "source": [
    "# LoRA Download"
   ]
  },
  {
   "cell_type": "code",
   "execution_count": null,
   "id": "594ab2fa",
   "metadata": {},
   "outputs": [],
   "source": [
    "LoRA_LINK = \"\"\n",
    "\n",
    "# Downlad the LoRA model directly to A1111 LoRA folder\n",
    "\n",
    "#--------------------\n",
    "loradwn(LoRA_LINK)"
   ]
  },
  {
   "cell_type": "markdown",
   "id": "2f9228f8-3d2b-4964-a848-f75ae1618d9f",
   "metadata": {},
   "source": [
    "# ControlNet"
   ]
  },
  {
   "cell_type": "code",
   "execution_count": null,
   "id": "90c5d7c8-d0dc-43dc-9232-1351e8f80b5e",
   "metadata": {},
   "outputs": [],
   "source": [
    "# Download/update ControlNet extension and its models.\n",
    "\n",
    "ControlNet_v1_Model = \"none\"\n",
    "\n",
    "# Choices are : none; all; 1: Canny; 2: Depth; 3: Lineart; 4: MLSD; 5: Normal; 6: OpenPose; 7: Scribble; 8: Seg; 9: ip2p; 10:Shuffle; 11: Inpaint; 12: Softedge; 13: Lineart_Anime; 14: Tile; 15: T2iadapter_Models\n",
    "\n",
    "ControlNet_XL_Model = \"none\"\n",
    "\n",
    "# Choices are : none; all; 1: Canny; 2: Depth; 3: Sketch; 4: OpenPose; 5: Recolor\n",
    "\n",
    "#--------------------\n",
    "CN(ControlNet_v1_Model, ControlNet_XL_Model)"
   ]
  },
  {
   "cell_type": "markdown",
   "id": "e0baf0c4-a410-432f-891b-975c7250c77d",
   "metadata": {},
   "source": [
    "# Start Stable-Diffusion"
   ]
  },
  {
   "cell_type": "code",
   "execution_count": null,
   "id": "0121ea1d-1aa0-4961-b916-c5dbb900e05f",
   "metadata": {},
   "outputs": [],
   "source": [
    "User = \"\"\n",
    "\n",
    "Password= \"\"\n",
    "\n",
    "# Add credentials to your Gradio interface (optional).\n",
    "\n",
    "\n",
    "#-----------------\n",
    "configf=sdui(User, Password, model) if 'model' in locals() else sdui(User, Password, \"\")\n",
    "!python /notebooks/sd/stable-diffusion-webui/webui.py $configf"
   ]
  }
 ],
 "metadata": {
  "kernelspec": {
   "display_name": "Python 3 (ipykernel)",
   "language": "python",
   "name": "python3"
  },
  "language_info": {
   "codemirror_mode": {
    "name": "ipython",
    "version": 3
   },
   "file_extension": ".py",
   "mimetype": "text/x-python",
   "name": "python",
   "nbconvert_exporter": "python",
   "pygments_lexer": "ipython3",
   "version": "3.10.13"
  }
 },
 "nbformat": 4,
 "nbformat_minor": 5
}
